{
  "nbformat": 4,
  "nbformat_minor": 0,
  "metadata": {
    "colab": {
      "name": "COMP 4980 ML Bagged Trees.ipynb",
      "provenance": [],
      "include_colab_link": true
    },
    "kernelspec": {
      "name": "python3",
      "display_name": "Python 3"
    },
    "language_info": {
      "name": "python"
    }
  },
  "cells": [
    {
      "cell_type": "markdown",
      "metadata": {
        "id": "view-in-github",
        "colab_type": "text"
      },
      "source": [
        "<a href=\"https://colab.research.google.com/github/adancalderon/MLintro/blob/main/COMP_4980_ML_Bagged_Trees.ipynb\" target=\"_parent\"><img src=\"https://colab.research.google.com/assets/colab-badge.svg\" alt=\"Open In Colab\"/></a>"
      ]
    },
    {
      "cell_type": "code",
      "execution_count": null,
      "metadata": {
        "id": "mXJphDV4hSrc"
      },
      "outputs": [],
      "source": [
        "import numpy as np\n",
        "import matplotlib.pyplot as plt\n"
      ]
    },
    {
      "cell_type": "code",
      "source": [
        "from sklearn.datasets import load_iris\n",
        "ds = load_iris()\n",
        "X = ds.data\n",
        "y = ds.target"
      ],
      "metadata": {
        "id": "dI8Xf0RJhYly"
      },
      "execution_count": null,
      "outputs": []
    },
    {
      "cell_type": "code",
      "source": [
        "n = X.shape[0]\n",
        "boot = np.random.randint(n, size=n)"
      ],
      "metadata": {
        "id": "gMoB2LKYhdCq"
      },
      "execution_count": null,
      "outputs": []
    },
    {
      "cell_type": "code",
      "source": [
        "from sklearn.model_selection import train_test_split\n",
        "X_train, X_test, y_train, y_test = train_test_split(X, y, test_size=0.2)"
      ],
      "metadata": {
        "id": "rGVZSG2Qhulr"
      },
      "execution_count": null,
      "outputs": []
    },
    {
      "cell_type": "code",
      "source": [
        "trees = list(range(100))\n",
        "n = X_train.shape[0]"
      ],
      "metadata": {
        "id": "UadOI7UpiU-K"
      },
      "execution_count": null,
      "outputs": []
    },
    {
      "cell_type": "code",
      "source": [
        "from sklearn.tree import DecisionTreeClassifier\n",
        "\n",
        "def fit():\n",
        "  for i in range(len(trees)):\n",
        "    trees[i] = DecisionTreeClassifier()\n",
        "    boot = np.random.randint(n, size=n)\n",
        "    Xtb = X_train[boot]\n",
        "    ytb = y_train[boot]\n",
        "\n",
        "    trees[i].fit(Xtb, ytb)\n"
      ],
      "metadata": {
        "id": "ZY2t9alHikqR"
      },
      "execution_count": null,
      "outputs": []
    },
    {
      "cell_type": "code",
      "source": [
        "fit()"
      ],
      "metadata": {
        "id": "skXoqDStjJkJ"
      },
      "execution_count": null,
      "outputs": []
    },
    {
      "cell_type": "code",
      "source": [
        "from scipy.stats import  mode\n",
        "\n",
        "def predict(Xs):\n",
        "  votes = np.empty( (len(trees), len(Xs)) )\n",
        "\n",
        "  for i in range(len(trees)):\n",
        "    votes[i] = trees[i].predict(Xs)\n",
        "\n",
        "  result = np.zeros(len(Xs))\n",
        "  for i in range(len(Xs)):\n",
        "    result[i] = mode(votes[:,i])[0][0]\n",
        "  \n",
        "  return result"
      ],
      "metadata": {
        "id": "BGjg3I_nj4xZ"
      },
      "execution_count": null,
      "outputs": []
    },
    {
      "cell_type": "code",
      "source": [
        "y_pred = predict(X_test)"
      ],
      "metadata": {
        "id": "2BEenr--lNw5"
      },
      "execution_count": null,
      "outputs": []
    },
    {
      "cell_type": "code",
      "source": [
        "from sklearn.metrics import accuracy_score\n",
        "\n",
        "print(accuracy_score(y_test,y_pred))"
      ],
      "metadata": {
        "colab": {
          "base_uri": "https://localhost:8080/"
        },
        "id": "YAJXqNjMlrI4",
        "outputId": "30cdca08-abd8-4e04-8433-e91295259cf7"
      },
      "execution_count": null,
      "outputs": [
        {
          "output_type": "stream",
          "name": "stdout",
          "text": [
            "0.9666666666666667\n"
          ]
        }
      ]
    },
    {
      "cell_type": "code",
      "source": [
        "clf = DecisionTreeClassifier()\n",
        "clf.fit(X_train, y_train)\n",
        "y_pred = clf.predict(X_test)"
      ],
      "metadata": {
        "id": "TNPr8Urwm_eP"
      },
      "execution_count": null,
      "outputs": []
    },
    {
      "cell_type": "code",
      "source": [
        "from sklearn.ensemble import BaggingClassifier\n",
        "clf = BaggingClassifier()\n",
        "clf.fit(X_train, y_train)\n",
        "y_pred = clf.predict(X_test)"
      ],
      "metadata": {
        "id": "BGIbQRUAnbFn"
      },
      "execution_count": null,
      "outputs": []
    }
  ]
}