{
  "nbformat": 4,
  "nbformat_minor": 0,
  "metadata": {
    "colab": {
      "name": "COMP 4980 Winter 2022 Logistic Regression.ipynb",
      "provenance": [],
      "collapsed_sections": [],
      "include_colab_link": true
    },
    "kernelspec": {
      "name": "python3",
      "display_name": "Python 3"
    },
    "language_info": {
      "name": "python"
    }
  },
  "cells": [
    {
      "cell_type": "markdown",
      "metadata": {
        "id": "view-in-github",
        "colab_type": "text"
      },
      "source": [
        "<a href=\"https://colab.research.google.com/github/adancalderon/MLintro/blob/main/COMP_4980_Winter_2022_Logistic_Regression.ipynb\" target=\"_parent\"><img src=\"https://colab.research.google.com/assets/colab-badge.svg\" alt=\"Open In Colab\"/></a>"
      ]
    },
    {
      "cell_type": "code",
      "execution_count": null,
      "metadata": {
        "id": "qcSJgA3Zovlp"
      },
      "outputs": [],
      "source": [
        "import numpy as np\n",
        "import pandas as pd\n",
        "import matplotlib.pyplot as plt"
      ]
    },
    {
      "cell_type": "code",
      "source": [
        "from sklearn.datasets import make_blobs\n",
        "\n",
        "X,y = make_blobs(200,centers=2, cluster_std=[4,4])"
      ],
      "metadata": {
        "id": "_yHemhu_o_bO"
      },
      "execution_count": null,
      "outputs": []
    },
    {
      "cell_type": "code",
      "source": [
        "def dividingLine(x):\n",
        "  b = clf.intercept_[0]\n",
        "  w1, w2 = clf.coef_.T\n",
        "  c = -b/w2\n",
        "  m = -w1/w2\n",
        "  return m*x + c\n",
        "\n",
        "plt.figure()\n",
        "plt.scatter(X_test[:,0], X_test[:,1],c=y_test, edgecolors='green', linewidths=2*(y_pred!=y_test))\n",
        "#plt.scatter(X_train[:,0], X_train[:,1],c=y_train)\n",
        "xp = np.array( [np.min(X_train[:,0]), np.max(X_train[:,0])])\n",
        "plt.colorbar()\n",
        "plt.plot(xp, dividingLine(xp))\n",
        "plt.show()"
      ],
      "metadata": {
        "colab": {
          "base_uri": "https://localhost:8080/",
          "height": 269
        },
        "id": "PDp9pAqYpBAW",
        "outputId": "59843108-7a2e-4d0f-cf90-7bbb103dede0"
      },
      "execution_count": null,
      "outputs": [
        {
          "output_type": "display_data",
          "data": {
            "image/png": "[encoded data removed]",
            "text/plain": [
              "<Figure size 432x288 with 2 Axes>"
            ]
          },
          "metadata": {
            "needs_background": "light"
          }
        }
      ]
    },
    {
      "cell_type": "code",
      "source": [
        "from sklearn.model_selection import train_test_split\n",
        "X_train, X_test, y_train, y_test = train_test_split(X, y, test_size=0.2)"
      ],
      "metadata": {
        "id": "z04qzcS7pN0W"
      },
      "execution_count": null,
      "outputs": []
    },
    {
      "cell_type": "code",
      "source": [
        "from sklearn.preprocessing import Normalizer\n",
        "scaler = Normalizer()\n",
        "scaler.fit( X_train )\n",
        "X_train = scaler.transform(X_train)\n",
        "X_test = scaler.transform(X_test)"
      ],
      "metadata": {
        "id": "Vj3T5Vn0qjtN"
      },
      "execution_count": null,
      "outputs": []
    },
    {
      "cell_type": "code",
      "source": [
        "from sklearn.linear_model import LogisticRegression\n",
        "from sklearn.neighbors import KNeighborsClassifier\n",
        "\n",
        "clf = LogisticRegression()\n",
        "#clf = KNeighborsClassifier()\n",
        "clf.fit(X_train, y_train)\n",
        "y_pred = clf.predict(X_test)"
      ],
      "metadata": {
        "id": "Y13o3sCLpTTN"
      },
      "execution_count": null,
      "outputs": []
    },
    {
      "cell_type": "code",
      "source": [
        "from sklearn.metrics import accuracy_score\n",
        "accuracy_score(y_test, y_pred)"
      ],
      "metadata": {
        "colab": {
          "base_uri": "https://localhost:8080/"
        },
        "id": "AaVaHiBVpdBt",
        "outputId": "680d372a-6ad9-4cf9-9a0c-0fefc46857d8"
      },
      "execution_count": null,
      "outputs": [
        {
          "output_type": "execute_result",
          "data": {
            "text/plain": [
              "0.975"
            ]
          },
          "metadata": {},
          "execution_count": 21
        }
      ]
    },
    {
      "cell_type": "code",
      "source": [
        "from sklearn.metrics import confusion_matrix\n",
        "confusion_matrix(y_test, y_pred)"
      ],
      "metadata": {
        "colab": {
          "base_uri": "https://localhost:8080/"
        },
        "id": "9JoVRWVui9OR",
        "outputId": "f021111c-f36c-444f-c0b6-44107724c9ef"
      },
      "execution_count": null,
      "outputs": [
        {
          "output_type": "execute_result",
          "data": {
            "text/plain": [
              "array([[18,  1],\n",
              "       [ 0, 21]])"
            ]
          },
          "metadata": {},
          "execution_count": 29
        }
      ]
    },
    {
      "cell_type": "code",
      "source": [
        "from sklearn.metrics import classification_report\n",
        "print(classification_report(y_test, y_pred))"
      ],
      "metadata": {
        "colab": {
          "base_uri": "https://localhost:8080/"
        },
        "id": "5h4UZ7bDjYc2",
        "outputId": "8828677c-1f86-4c97-deb7-8f0b8186af2b"
      },
      "execution_count": null,
      "outputs": [
        {
          "output_type": "stream",
          "name": "stdout",
          "text": [
            "              precision    recall  f1-score   support\n",
            "\n",
            "           0       1.00      0.95      0.97        19\n",
            "           1       0.95      1.00      0.98        21\n",
            "\n",
            "    accuracy                           0.97        40\n",
            "   macro avg       0.98      0.97      0.97        40\n",
            "weighted avg       0.98      0.97      0.97        40\n",
            "\n"
          ]
        }
      ]
    },
    {
      "cell_type": "code",
      "source": [
        "clf.coef_"
      ],
      "metadata": {
        "colab": {
          "base_uri": "https://localhost:8080/"
        },
        "id": "S4sTVdh4ptNe",
        "outputId": "5888bc68-259b-45ef-990e-d2f9f94452d6"
      },
      "execution_count": null,
      "outputs": [
        {
          "output_type": "execute_result",
          "data": {
            "text/plain": [
              "array([[0.39772762, 0.80415739]])"
            ]
          },
          "metadata": {},
          "execution_count": 15
        }
      ]
    },
    {
      "cell_type": "code",
      "source": [
        "clf.intercept_"
      ],
      "metadata": {
        "colab": {
          "base_uri": "https://localhost:8080/"
        },
        "id": "n6TrOK9ahX4a",
        "outputId": "09f0cf91-9056-408c-e3f5-73bbc18b9bf2"
      },
      "execution_count": null,
      "outputs": [
        {
          "output_type": "execute_result",
          "data": {
            "text/plain": [
              "array([0.73037733])"
            ]
          },
          "metadata": {},
          "execution_count": 8
        }
      ]
    },
    {
      "cell_type": "code",
      "source": [
        "def sigmoid(x):\n",
        "    return (1 / (1 + np.exp(-x)))"
      ],
      "metadata": {
        "id": "HttrvPG5tYrN"
      },
      "execution_count": null,
      "outputs": []
    },
    {
      "cell_type": "code",
      "source": [
        "# rounds sigmoid result to 0 or 1\n",
        "def predictLabel(x):\n",
        "  l = len(x)\n",
        "  pred = np.zeros(l)\n",
        "  for i in range (l):\n",
        "    if x[i] > 0.5:\n",
        "      pred[i] = 1\n",
        "  \n",
        "  return pred  "
      ],
      "metadata": {
        "id": "lsw9Y1sqmXv7"
      },
      "execution_count": null,
      "outputs": []
    },
    {
      "cell_type": "code",
      "source": [
        "# Using gradient descent to train our logistic regression model\n",
        "n = len(X_train)\n",
        "alpha = 0.1   # learning rate\n",
        "\n",
        "B = np.zeros(len(X_train[0]) + 1)\n",
        "ones = np.ones((n,1))\n",
        "X1 = np.hstack((ones,X_train))\n",
        "\n",
        "epochs = 1000\n",
        "costs = np.zeros(epochs)\n",
        "\n",
        "for i in range(epochs):\n",
        "  y = X1.dot(B)\n",
        "  y = sigmoid(y)\n",
        "\n",
        "  h = predictLabel(y)\n",
        "  cost = np.sum(((h - y_train)**2)) / (2*n)\n",
        "  costs[i] = cost\n",
        "\n",
        "  error = y - y_train\n",
        "  gradient = X1.T.dot(error) / n\n",
        "  B = B - alpha*gradient\n",
        "\n",
        "  if(i % (epochs/20) == 0):\n",
        "    print(cost.mean())"
      ],
      "metadata": {
        "colab": {
          "base_uri": "https://localhost:8080/"
        },
        "id": "4FVj0xVJtiZM",
        "outputId": "3963c396-02a4-4414-84fa-20767b71130d"
      },
      "execution_count": null,
      "outputs": [
        {
          "output_type": "stream",
          "name": "stdout",
          "text": [
            "0.234375\n",
            "0.021875\n",
            "0.021875\n",
            "0.021875\n",
            "0.021875\n",
            "0.021875\n",
            "0.021875\n",
            "0.021875\n",
            "0.021875\n",
            "0.021875\n",
            "0.021875\n",
            "0.021875\n",
            "0.021875\n",
            "0.021875\n",
            "0.021875\n",
            "0.021875\n",
            "0.021875\n",
            "0.021875\n",
            "0.021875\n",
            "0.021875\n"
          ]
        }
      ]
    },
    {
      "cell_type": "code",
      "source": [
        "# model coefficients from code here\n",
        "B"
      ],
      "metadata": {
        "colab": {
          "base_uri": "https://localhost:8080/"
        },
        "id": "CeGQAInzme2d",
        "outputId": "2a7d9f1f-743f-4144-b2af-2295ab07eb7e"
      },
      "execution_count": null,
      "outputs": [
        {
          "output_type": "execute_result",
          "data": {
            "text/plain": [
              "array([0.67962223, 0.41858601, 0.83600581])"
            ]
          },
          "metadata": {},
          "execution_count": 13
        }
      ]
    }
  ]
}