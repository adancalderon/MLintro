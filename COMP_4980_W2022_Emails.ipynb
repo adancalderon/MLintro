{
  "nbformat": 4,
  "nbformat_minor": 0,
  "metadata": {
    "colab": {
      "name": "COMP 4980 W2022 Emails.ipynb",
      "provenance": [],
      "include_colab_link": true
    },
    "kernelspec": {
      "name": "python3",
      "display_name": "Python 3"
    },
    "language_info": {
      "name": "python"
    }
  },
  "cells": [
    {
      "cell_type": "markdown",
      "metadata": {
        "id": "view-in-github",
        "colab_type": "text"
      },
      "source": [
        "<a href=\"https://colab.research.google.com/github/adancalderon/MLintro/blob/main/COMP_4980_W2022_Emails.ipynb\" target=\"_parent\"><img src=\"https://colab.research.google.com/assets/colab-badge.svg\" alt=\"Open In Colab\"/></a>"
      ]
    },
    {
      "cell_type": "code",
      "execution_count": null,
      "metadata": {
        "id": "FYRe6QiWtqqS"
      },
      "outputs": [],
      "source": [
        "import pandas as pd\n",
        "import numpy as np\n",
        "import matplotlib.pyplot as plt\n",
        "\n",
        "np.set_printoptions(threshold=np.inf)"
      ]
    },
    {
      "cell_type": "code",
      "source": [
        "import csv\n",
        "import io\n",
        "import sys\n",
        "from google.colab import files"
      ],
      "metadata": {
        "id": "puYlTiX0tyXz"
      },
      "execution_count": null,
      "outputs": []
    },
    {
      "cell_type": "code",
      "source": [
        "file = files.upload()"
      ],
      "metadata": {
        "colab": {
          "resources": {
            "http://localhost:8080/nbextensions/google.colab/files.js": {
              "data": "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",
              "ok": true,
              "headers": [
                [
                  "content-type",
                  "application/javascript"
                ]
              ],
              "status": 200,
              "status_text": ""
            }
          },
          "base_uri": "https://localhost:8080/",
          "height": 73
        },
        "id": "xBJa6-Latzbb",
        "outputId": "5eeb9da5-0bf4-4c4f-a004-0c4e2efa4fd0"
      },
      "execution_count": null,
      "outputs": [
        {
          "output_type": "display_data",
          "data": {
            "text/html": [
              "\n",
              "     <input type=\"file\" id=\"files-516b1e9d-6e78-4b1a-9dd0-bf6d2383ec20\" name=\"files[]\" multiple disabled\n",
              "        style=\"border:none\" />\n",
              "     <output id=\"result-516b1e9d-6e78-4b1a-9dd0-bf6d2383ec20\">\n",
              "      Upload widget is only available when the cell has been executed in the\n",
              "      current browser session. Please rerun this cell to enable.\n",
              "      </output>\n",
              "      <script src=\"/nbextensions/google.colab/files.js\"></script> "
            ],
            "text/plain": [
              "<IPython.core.display.HTML object>"
            ]
          },
          "metadata": {}
        },
        {
          "output_type": "stream",
          "name": "stdout",
          "text": [
            "Saving emails.csv to emails.csv\n"
          ]
        }
      ]
    },
    {
      "cell_type": "code",
      "source": [
        "df = pd.read_csv( io.StringIO(file['emails.csv'].decode('utf-8')) )\n",
        "df.shape"
      ],
      "metadata": {
        "colab": {
          "base_uri": "https://localhost:8080/"
        },
        "id": "HMqjbxadubwk",
        "outputId": "ee2e6138-0f06-452e-c56b-c6a15f10d694"
      },
      "execution_count": null,
      "outputs": [
        {
          "output_type": "execute_result",
          "data": {
            "text/plain": [
              "(5728, 2)"
            ]
          },
          "metadata": {},
          "execution_count": 4
        }
      ]
    },
    {
      "cell_type": "code",
      "source": [
        "# not very useful for this data set\n",
        "df.describe()"
      ],
      "metadata": {
        "colab": {
          "base_uri": "https://localhost:8080/",
          "height": 300
        },
        "id": "TV6bW4AFvlA1",
        "outputId": "986208bf-e11b-4a99-afba-49946969ee84"
      },
      "execution_count": null,
      "outputs": [
        {
          "output_type": "execute_result",
          "data": {
            "text/html": [
              "\n",
              "  <div id=\"df-d4eeca6c-bfa5-4f81-a8a9-280b582345eb\">\n",
              "    <div class=\"colab-df-container\">\n",
              "      <div>\n",
              "<style scoped>\n",
              "    .dataframe tbody tr th:only-of-type {\n",
              "        vertical-align: middle;\n",
              "    }\n",
              "\n",
              "    .dataframe tbody tr th {\n",
              "        vertical-align: top;\n",
              "    }\n",
              "\n",
              "    .dataframe thead th {\n",
              "        text-align: right;\n",
              "    }\n",
              "</style>\n",
              "<table border=\"1\" class=\"dataframe\">\n",
              "  <thead>\n",
              "    <tr style=\"text-align: right;\">\n",
              "      <th></th>\n",
              "      <th>spam</th>\n",
              "    </tr>\n",
              "  </thead>\n",
              "  <tbody>\n",
              "    <tr>\n",
              "      <th>count</th>\n",
              "      <td>5728.000000</td>\n",
              "    </tr>\n",
              "    <tr>\n",
              "      <th>mean</th>\n",
              "      <td>0.238827</td>\n",
              "    </tr>\n",
              "    <tr>\n",
              "      <th>std</th>\n",
              "      <td>0.426404</td>\n",
              "    </tr>\n",
              "    <tr>\n",
              "      <th>min</th>\n",
              "      <td>0.000000</td>\n",
              "    </tr>\n",
              "    <tr>\n",
              "      <th>25%</th>\n",
              "      <td>0.000000</td>\n",
              "    </tr>\n",
              "    <tr>\n",
              "      <th>50%</th>\n",
              "      <td>0.000000</td>\n",
              "    </tr>\n",
              "    <tr>\n",
              "      <th>75%</th>\n",
              "      <td>0.000000</td>\n",
              "    </tr>\n",
              "    <tr>\n",
              "      <th>max</th>\n",
              "      <td>1.000000</td>\n",
              "    </tr>\n",
              "  </tbody>\n",
              "</table>\n",
              "</div>\n",
              "      <button class=\"colab-df-convert\" onclick=\"convertToInteractive('df-d4eeca6c-bfa5-4f81-a8a9-280b582345eb')\"\n",
              "              title=\"Convert this dataframe to an interactive table.\"\n",
              "              style=\"display:none;\">\n",
              "        \n",
              "  <svg xmlns=\"http://www.w3.org/2000/svg\" height=\"24px\"viewBox=\"0 0 24 24\"\n",
              "       width=\"24px\">\n",
              "    <path d=\"M0 0h24v24H0V0z\" fill=\"none\"/>\n",
              "    <path d=\"M18.56 5.44l.94 2.06.94-2.06 2.06-.94-2.06-.94-.94-2.06-.94 2.06-2.06.94zm-11 1L8.5 8.5l.94-2.06 2.06-.94-2.06-.94L8.5 2.5l-.94 2.06-2.06.94zm10 10l.94 2.06.94-2.06 2.06-.94-2.06-.94-.94-2.06-.94 2.06-2.06.94z\"/><path d=\"M17.41 7.96l-1.37-1.37c-.4-.4-.92-.59-1.43-.59-.52 0-1.04.2-1.43.59L10.3 9.45l-7.72 7.72c-.78.78-.78 2.05 0 2.83L4 21.41c.39.39.9.59 1.41.59.51 0 1.02-.2 1.41-.59l7.78-7.78 2.81-2.81c.8-.78.8-2.07 0-2.86zM5.41 20L4 18.59l7.72-7.72 1.47 1.35L5.41 20z\"/>\n",
              "  </svg>\n",
              "      </button>\n",
              "      \n",
              "  <style>\n",
              "    .colab-df-container {\n",
              "      display:flex;\n",
              "      flex-wrap:wrap;\n",
              "      gap: 12px;\n",
              "    }\n",
              "\n",
              "    .colab-df-convert {\n",
              "      background-color: #E8F0FE;\n",
              "      border: none;\n",
              "      border-radius: 50%;\n",
              "      cursor: pointer;\n",
              "      display: none;\n",
              "      fill: #1967D2;\n",
              "      height: 32px;\n",
              "      padding: 0 0 0 0;\n",
              "      width: 32px;\n",
              "    }\n",
              "\n",
              "    .colab-df-convert:hover {\n",
              "      background-color: #E2EBFA;\n",
              "      box-shadow: 0px 1px 2px rgba(60, 64, 67, 0.3), 0px 1px 3px 1px rgba(60, 64, 67, 0.15);\n",
              "      fill: #174EA6;\n",
              "    }\n",
              "\n",
              "    [theme=dark] .colab-df-convert {\n",
              "      background-color: #3B4455;\n",
              "      fill: #D2E3FC;\n",
              "    }\n",
              "\n",
              "    [theme=dark] .colab-df-convert:hover {\n",
              "      background-color: #434B5C;\n",
              "      box-shadow: 0px 1px 3px 1px rgba(0, 0, 0, 0.15);\n",
              "      filter: drop-shadow(0px 1px 2px rgba(0, 0, 0, 0.3));\n",
              "      fill: #FFFFFF;\n",
              "    }\n",
              "  </style>\n",
              "\n",
              "      <script>\n",
              "        const buttonEl =\n",
              "          document.querySelector('#df-d4eeca6c-bfa5-4f81-a8a9-280b582345eb button.colab-df-convert');\n",
              "        buttonEl.style.display =\n",
              "          google.colab.kernel.accessAllowed ? 'block' : 'none';\n",
              "\n",
              "        async function convertToInteractive(key) {\n",
              "          const element = document.querySelector('#df-d4eeca6c-bfa5-4f81-a8a9-280b582345eb');\n",
              "          const dataTable =\n",
              "            await google.colab.kernel.invokeFunction('convertToInteractive',\n",
              "                                                     [key], {});\n",
              "          if (!dataTable) return;\n",
              "\n",
              "          const docLinkHtml = 'Like what you see? Visit the ' +\n",
              "            '<a target=\"_blank\" href=https://colab.research.google.com/notebooks/data_table.ipynb>data table notebook</a>'\n",
              "            + ' to learn more about interactive tables.';\n",
              "          element.innerHTML = '';\n",
              "          dataTable['output_type'] = 'display_data';\n",
              "          await google.colab.output.renderOutput(dataTable, element);\n",
              "          const docLink = document.createElement('div');\n",
              "          docLink.innerHTML = docLinkHtml;\n",
              "          element.appendChild(docLink);\n",
              "        }\n",
              "      </script>\n",
              "    </div>\n",
              "  </div>\n",
              "  "
            ],
            "text/plain": [
              "              spam\n",
              "count  5728.000000\n",
              "mean      0.238827\n",
              "std       0.426404\n",
              "min       0.000000\n",
              "25%       0.000000\n",
              "50%       0.000000\n",
              "75%       0.000000\n",
              "max       1.000000"
            ]
          },
          "metadata": {},
          "execution_count": 5
        }
      ]
    },
    {
      "cell_type": "code",
      "source": [
        "df.head(20)"
      ],
      "metadata": {
        "colab": {
          "base_uri": "https://localhost:8080/",
          "height": 676
        },
        "id": "IAecGhdLu1o1",
        "outputId": "fb4a0b49-2a59-46a4-fb3f-bce0ad5d582e"
      },
      "execution_count": null,
      "outputs": [
        {
          "output_type": "execute_result",
          "data": {
            "text/html": [
              "\n",
              "  <div id=\"df-56d031e2-632a-4b8b-a821-0bdd4c3c92df\">\n",
              "    <div class=\"colab-df-container\">\n",
              "      <div>\n",
              "<style scoped>\n",
              "    .dataframe tbody tr th:only-of-type {\n",
              "        vertical-align: middle;\n",
              "    }\n",
              "\n",
              "    .dataframe tbody tr th {\n",
              "        vertical-align: top;\n",
              "    }\n",
              "\n",
              "    .dataframe thead th {\n",
              "        text-align: right;\n",
              "    }\n",
              "</style>\n",
              "<table border=\"1\" class=\"dataframe\">\n",
              "  <thead>\n",
              "    <tr style=\"text-align: right;\">\n",
              "      <th></th>\n",
              "      <th>text</th>\n",
              "      <th>spam</th>\n",
              "    </tr>\n",
              "  </thead>\n",
              "  <tbody>\n",
              "    <tr>\n",
              "      <th>0</th>\n",
              "      <td>Subject: naturally irresistible your corporate...</td>\n",
              "      <td>1</td>\n",
              "    </tr>\n",
              "    <tr>\n",
              "      <th>1</th>\n",
              "      <td>Subject: the stock trading gunslinger  fanny i...</td>\n",
              "      <td>1</td>\n",
              "    </tr>\n",
              "    <tr>\n",
              "      <th>2</th>\n",
              "      <td>Subject: unbelievable new homes made easy  im ...</td>\n",
              "      <td>1</td>\n",
              "    </tr>\n",
              "    <tr>\n",
              "      <th>3</th>\n",
              "      <td>Subject: 4 color printing special  request add...</td>\n",
              "      <td>1</td>\n",
              "    </tr>\n",
              "    <tr>\n",
              "      <th>4</th>\n",
              "      <td>Subject: do not have money , get software cds ...</td>\n",
              "      <td>1</td>\n",
              "    </tr>\n",
              "    <tr>\n",
              "      <th>5</th>\n",
              "      <td>Subject: great nnews  hello , welcome to medzo...</td>\n",
              "      <td>1</td>\n",
              "    </tr>\n",
              "    <tr>\n",
              "      <th>6</th>\n",
              "      <td>Subject: here ' s a hot play in motion  homela...</td>\n",
              "      <td>1</td>\n",
              "    </tr>\n",
              "    <tr>\n",
              "      <th>7</th>\n",
              "      <td>Subject: save your money buy getting this thin...</td>\n",
              "      <td>1</td>\n",
              "    </tr>\n",
              "    <tr>\n",
              "      <th>8</th>\n",
              "      <td>Subject: undeliverable : home based business f...</td>\n",
              "      <td>1</td>\n",
              "    </tr>\n",
              "    <tr>\n",
              "      <th>9</th>\n",
              "      <td>Subject: save your money buy getting this thin...</td>\n",
              "      <td>1</td>\n",
              "    </tr>\n",
              "    <tr>\n",
              "      <th>10</th>\n",
              "      <td>Subject: las vegas high rise boom  las vegas i...</td>\n",
              "      <td>1</td>\n",
              "    </tr>\n",
              "    <tr>\n",
              "      <th>11</th>\n",
              "      <td>Subject: save your money buy getting this thin...</td>\n",
              "      <td>1</td>\n",
              "    </tr>\n",
              "    <tr>\n",
              "      <th>12</th>\n",
              "      <td>Subject: brighten those teeth  get your  teeth...</td>\n",
              "      <td>1</td>\n",
              "    </tr>\n",
              "    <tr>\n",
              "      <th>13</th>\n",
              "      <td>Subject: wall street phenomenon reaps rewards ...</td>\n",
              "      <td>1</td>\n",
              "    </tr>\n",
              "    <tr>\n",
              "      <th>14</th>\n",
              "      <td>Subject: fpa notice : ebay misrepresentation o...</td>\n",
              "      <td>1</td>\n",
              "    </tr>\n",
              "    <tr>\n",
              "      <th>15</th>\n",
              "      <td>Subject: search engine position  be the very f...</td>\n",
              "      <td>1</td>\n",
              "    </tr>\n",
              "    <tr>\n",
              "      <th>16</th>\n",
              "      <td>Subject: only our software is guaranteed 100 %...</td>\n",
              "      <td>1</td>\n",
              "    </tr>\n",
              "    <tr>\n",
              "      <th>17</th>\n",
              "      <td>Subject: localized software , all languages av...</td>\n",
              "      <td>1</td>\n",
              "    </tr>\n",
              "    <tr>\n",
              "      <th>18</th>\n",
              "      <td>Subject: security alert - confirm your nationa...</td>\n",
              "      <td>1</td>\n",
              "    </tr>\n",
              "    <tr>\n",
              "      <th>19</th>\n",
              "      <td>Subject: 21 st century web specialists jrgbm  ...</td>\n",
              "      <td>1</td>\n",
              "    </tr>\n",
              "  </tbody>\n",
              "</table>\n",
              "</div>\n",
              "      <button class=\"colab-df-convert\" onclick=\"convertToInteractive('df-56d031e2-632a-4b8b-a821-0bdd4c3c92df')\"\n",
              "              title=\"Convert this dataframe to an interactive table.\"\n",
              "              style=\"display:none;\">\n",
              "        \n",
              "  <svg xmlns=\"http://www.w3.org/2000/svg\" height=\"24px\"viewBox=\"0 0 24 24\"\n",
              "       width=\"24px\">\n",
              "    <path d=\"M0 0h24v24H0V0z\" fill=\"none\"/>\n",
              "    <path d=\"M18.56 5.44l.94 2.06.94-2.06 2.06-.94-2.06-.94-.94-2.06-.94 2.06-2.06.94zm-11 1L8.5 8.5l.94-2.06 2.06-.94-2.06-.94L8.5 2.5l-.94 2.06-2.06.94zm10 10l.94 2.06.94-2.06 2.06-.94-2.06-.94-.94-2.06-.94 2.06-2.06.94z\"/><path d=\"M17.41 7.96l-1.37-1.37c-.4-.4-.92-.59-1.43-.59-.52 0-1.04.2-1.43.59L10.3 9.45l-7.72 7.72c-.78.78-.78 2.05 0 2.83L4 21.41c.39.39.9.59 1.41.59.51 0 1.02-.2 1.41-.59l7.78-7.78 2.81-2.81c.8-.78.8-2.07 0-2.86zM5.41 20L4 18.59l7.72-7.72 1.47 1.35L5.41 20z\"/>\n",
              "  </svg>\n",
              "      </button>\n",
              "      \n",
              "  <style>\n",
              "    .colab-df-container {\n",
              "      display:flex;\n",
              "      flex-wrap:wrap;\n",
              "      gap: 12px;\n",
              "    }\n",
              "\n",
              "    .colab-df-convert {\n",
              "      background-color: #E8F0FE;\n",
              "      border: none;\n",
              "      border-radius: 50%;\n",
              "      cursor: pointer;\n",
              "      display: none;\n",
              "      fill: #1967D2;\n",
              "      height: 32px;\n",
              "      padding: 0 0 0 0;\n",
              "      width: 32px;\n",
              "    }\n",
              "\n",
              "    .colab-df-convert:hover {\n",
              "      background-color: #E2EBFA;\n",
              "      box-shadow: 0px 1px 2px rgba(60, 64, 67, 0.3), 0px 1px 3px 1px rgba(60, 64, 67, 0.15);\n",
              "      fill: #174EA6;\n",
              "    }\n",
              "\n",
              "    [theme=dark] .colab-df-convert {\n",
              "      background-color: #3B4455;\n",
              "      fill: #D2E3FC;\n",
              "    }\n",
              "\n",
              "    [theme=dark] .colab-df-convert:hover {\n",
              "      background-color: #434B5C;\n",
              "      box-shadow: 0px 1px 3px 1px rgba(0, 0, 0, 0.15);\n",
              "      filter: drop-shadow(0px 1px 2px rgba(0, 0, 0, 0.3));\n",
              "      fill: #FFFFFF;\n",
              "    }\n",
              "  </style>\n",
              "\n",
              "      <script>\n",
              "        const buttonEl =\n",
              "          document.querySelector('#df-56d031e2-632a-4b8b-a821-0bdd4c3c92df button.colab-df-convert');\n",
              "        buttonEl.style.display =\n",
              "          google.colab.kernel.accessAllowed ? 'block' : 'none';\n",
              "\n",
              "        async function convertToInteractive(key) {\n",
              "          const element = document.querySelector('#df-56d031e2-632a-4b8b-a821-0bdd4c3c92df');\n",
              "          const dataTable =\n",
              "            await google.colab.kernel.invokeFunction('convertToInteractive',\n",
              "                                                     [key], {});\n",
              "          if (!dataTable) return;\n",
              "\n",
              "          const docLinkHtml = 'Like what you see? Visit the ' +\n",
              "            '<a target=\"_blank\" href=https://colab.research.google.com/notebooks/data_table.ipynb>data table notebook</a>'\n",
              "            + ' to learn more about interactive tables.';\n",
              "          element.innerHTML = '';\n",
              "          dataTable['output_type'] = 'display_data';\n",
              "          await google.colab.output.renderOutput(dataTable, element);\n",
              "          const docLink = document.createElement('div');\n",
              "          docLink.innerHTML = docLinkHtml;\n",
              "          element.appendChild(docLink);\n",
              "        }\n",
              "      </script>\n",
              "    </div>\n",
              "  </div>\n",
              "  "
            ],
            "text/plain": [
              "                                                 text  spam\n",
              "0   Subject: naturally irresistible your corporate...     1\n",
              "1   Subject: the stock trading gunslinger  fanny i...     1\n",
              "2   Subject: unbelievable new homes made easy  im ...     1\n",
              "3   Subject: 4 color printing special  request add...     1\n",
              "4   Subject: do not have money , get software cds ...     1\n",
              "5   Subject: great nnews  hello , welcome to medzo...     1\n",
              "6   Subject: here ' s a hot play in motion  homela...     1\n",
              "7   Subject: save your money buy getting this thin...     1\n",
              "8   Subject: undeliverable : home based business f...     1\n",
              "9   Subject: save your money buy getting this thin...     1\n",
              "10  Subject: las vegas high rise boom  las vegas i...     1\n",
              "11  Subject: save your money buy getting this thin...     1\n",
              "12  Subject: brighten those teeth  get your  teeth...     1\n",
              "13  Subject: wall street phenomenon reaps rewards ...     1\n",
              "14  Subject: fpa notice : ebay misrepresentation o...     1\n",
              "15  Subject: search engine position  be the very f...     1\n",
              "16  Subject: only our software is guaranteed 100 %...     1\n",
              "17  Subject: localized software , all languages av...     1\n",
              "18  Subject: security alert - confirm your nationa...     1\n",
              "19  Subject: 21 st century web specialists jrgbm  ...     1"
            ]
          },
          "metadata": {},
          "execution_count": 6
        }
      ]
    },
    {
      "cell_type": "code",
      "source": [
        "from sklearn.feature_extraction.text import CountVectorizer\n",
        "corpus = df['text']\n",
        "\n",
        "vectorizer = CountVectorizer(stop_words=\"english\")\n",
        "X = vectorizer.fit_transform(corpus)"
      ],
      "metadata": {
        "id": "1YdU7aQfvCOX"
      },
      "execution_count": null,
      "outputs": []
    },
    {
      "cell_type": "code",
      "source": [
        "X.shape"
      ],
      "metadata": {
        "colab": {
          "base_uri": "https://localhost:8080/"
        },
        "id": "SsR1GkWlvmi1",
        "outputId": "ac1a7e93-8715-47ee-c01a-f614655ecc13"
      },
      "execution_count": null,
      "outputs": [
        {
          "output_type": "execute_result",
          "data": {
            "text/plain": [
              "(5728, 36996)"
            ]
          },
          "metadata": {},
          "execution_count": 8
        }
      ]
    },
    {
      "cell_type": "code",
      "source": [
        "X.count_nonzero() / (5728 * 37303)"
      ],
      "metadata": {
        "colab": {
          "base_uri": "https://localhost:8080/"
        },
        "id": "6P8MV49yv8jk",
        "outputId": "64c7e3b7-a9a4-4d67-bc08-be9b246f8f9d"
      },
      "execution_count": null,
      "outputs": [
        {
          "output_type": "execute_result",
          "data": {
            "text/plain": [
              "0.0023794413392844976"
            ]
          },
          "metadata": {},
          "execution_count": 9
        }
      ]
    },
    {
      "cell_type": "code",
      "source": [
        "#X.toarray()[:20]\n",
        "print(X[0])"
      ],
      "metadata": {
        "id": "Jl02O9wlwAA2",
        "colab": {
          "base_uri": "https://localhost:8080/"
        },
        "outputId": "bb5eeda0-9081-4e16-f0c4-b4d594b98260"
      },
      "execution_count": null,
      "outputs": [
        {
          "output_type": "stream",
          "name": "stdout",
          "text": [
            "  (0, 343)\t1\n",
            "  (0, 4206)\t1\n",
            "  (0, 4338)\t1\n",
            "  (0, 5740)\t1\n",
            "  (0, 6385)\t1\n",
            "  (0, 7106)\t1\n",
            "  (0, 7345)\t1\n",
            "  (0, 7477)\t2\n",
            "  (0, 7986)\t1\n",
            "  (0, 8275)\t1\n",
            "  (0, 8278)\t1\n",
            "  (0, 8594)\t1\n",
            "  (0, 8769)\t1\n",
            "  (0, 9015)\t1\n",
            "  (0, 9223)\t3\n",
            "  (0, 9743)\t2\n",
            "  (0, 9837)\t1\n",
            "  (0, 9986)\t1\n",
            "  (0, 10221)\t1\n",
            "  (0, 10777)\t1\n",
            "  (0, 11867)\t1\n",
            "  (0, 12207)\t1\n",
            "  (0, 12539)\t1\n",
            "  (0, 12552)\t1\n",
            "  (0, 12742)\t2\n",
            "  :\t:\n",
            "  (0, 26421)\t1\n",
            "  (0, 26835)\t1\n",
            "  (0, 26937)\t2\n",
            "  (0, 26957)\t1\n",
            "  (0, 27059)\t1\n",
            "  (0, 27060)\t1\n",
            "  (0, 27817)\t1\n",
            "  (0, 27941)\t1\n",
            "  (0, 28097)\t1\n",
            "  (0, 28710)\t1\n",
            "  (0, 29690)\t1\n",
            "  (0, 30592)\t1\n",
            "  (0, 31356)\t1\n",
            "  (0, 31767)\t1\n",
            "  (0, 31776)\t1\n",
            "  (0, 32070)\t1\n",
            "  (0, 32126)\t1\n",
            "  (0, 32145)\t1\n",
            "  (0, 32408)\t1\n",
            "  (0, 32423)\t1\n",
            "  (0, 32839)\t1\n",
            "  (0, 34582)\t1\n",
            "  (0, 34814)\t1\n",
            "  (0, 35805)\t2\n",
            "  (0, 36333)\t1\n"
          ]
        }
      ]
    },
    {
      "cell_type": "code",
      "source": [
        "sortVocab = sorted(vectorizer.vocabulary_.items(), \n",
        "                   #reverse=True,\n",
        "                   key = lambda x : x[1])"
      ],
      "metadata": {
        "id": "8H9v9WqExLrV"
      },
      "execution_count": null,
      "outputs": []
    },
    {
      "cell_type": "code",
      "source": [
        "from numpy.ma.core import sort\n",
        "print(sortVocab[35805])"
      ],
      "metadata": {
        "colab": {
          "base_uri": "https://localhost:8080/"
        },
        "id": "nVwrXvoixZJ8",
        "outputId": "e9b22e82-f69e-43fc-daaa-e1a33e97987d"
      },
      "execution_count": null,
      "outputs": [
        {
          "output_type": "stream",
          "name": "stdout",
          "text": [
            "('website', 35805)\n"
          ]
        }
      ]
    },
    {
      "cell_type": "code",
      "source": [
        "from sklearn.model_selection import train_test_split\n",
        "y = df['spam']\n",
        "X_train, X_test, y_train, y_test = train_test_split(X, y, test_size = 0.2)"
      ],
      "metadata": {
        "id": "PoG06fphx03e"
      },
      "execution_count": null,
      "outputs": []
    },
    {
      "cell_type": "code",
      "source": [
        "from sklearn.linear_model import LogisticRegression\n",
        "from sklearn.neighbors import KNeighborsClassifier\n",
        "\n",
        "#clf = LogisticRegression(max_iter=1000)\n",
        "clf = KNeighborsClassifier(n_neighbors=1)\n",
        "clf.fit(X_train, y_train)\n",
        "y_pred = clf.predict(X_test)"
      ],
      "metadata": {
        "id": "lDImQf8dx8Rc"
      },
      "execution_count": null,
      "outputs": []
    },
    {
      "cell_type": "code",
      "source": [
        "clf.coef_[:,:20]"
      ],
      "metadata": {
        "id": "vSvEJaGB0YnT",
        "outputId": "64fe4a7c-46e1-4a66-aa62-ea79ca818012",
        "colab": {
          "base_uri": "https://localhost:8080/"
        }
      },
      "execution_count": null,
      "outputs": [
        {
          "output_type": "execute_result",
          "data": {
            "text/plain": [
              "array([[-2.73401485e-01,  3.03313502e-01,  6.85217478e-04,\n",
              "        -4.00438940e-07, -9.73216966e-06, -5.72536704e-07,\n",
              "        -3.97945152e-03, -1.42267396e-05, -1.43356221e-05,\n",
              "        -1.12229378e-05, -1.12818773e-05, -2.15819307e-05,\n",
              "        -2.05763675e-05,  0.00000000e+00, -2.23906362e-05,\n",
              "         0.00000000e+00, -2.08691484e-05, -4.73981823e-03,\n",
              "         7.62181976e-09, -2.04578821e-05]])"
            ]
          },
          "metadata": {},
          "execution_count": 26
        }
      ]
    },
    {
      "cell_type": "code",
      "source": [
        "from sklearn.metrics import classification_report, confusion_matrix\n",
        "print(confusion_matrix(y_test, y_pred))\n",
        "print(classification_report(y_test, y_pred))"
      ],
      "metadata": {
        "colab": {
          "base_uri": "https://localhost:8080/"
        },
        "id": "oAsrBicEyRYF",
        "outputId": "e5a2a1f5-c4b9-40ec-c9dc-c16906bdd316"
      },
      "execution_count": null,
      "outputs": [
        {
          "output_type": "stream",
          "name": "stdout",
          "text": [
            "[[857   9]\n",
            " [ 98 182]]\n",
            "              precision    recall  f1-score   support\n",
            "\n",
            "           0       0.90      0.99      0.94       866\n",
            "           1       0.95      0.65      0.77       280\n",
            "\n",
            "    accuracy                           0.91      1146\n",
            "   macro avg       0.93      0.82      0.86      1146\n",
            "weighted avg       0.91      0.91      0.90      1146\n",
            "\n"
          ]
        }
      ]
    },
    {
      "cell_type": "code",
      "source": [
        "n = len(df['spam'])\n",
        "\n",
        "for i in range(n):\n",
        "   if clf.predict(X[i])[0] != y[i]:\n",
        "     print(y[i], \": \", corpus[i])"
      ],
      "metadata": {
        "colab": {
          "base_uri": "https://localhost:8080/"
        },
        "id": "Q6ajxiyJyozO",
        "outputId": "c1ef0a0e-a8e8-4525-e1b6-147f5bbcb8ed"
      },
      "execution_count": null,
      "outputs": [
        {
          "output_type": "stream",
          "name": "stdout",
          "text": [
            "1 :  Subject: security alert - confirm your national credit union information  - - > \n",
            "1 :  Subject: help  television in 1919 by seat to my knoweledge . chrono cross in 1969\n",
            "1 :  Subject: reduction in high blood pressure  age should be nothing more than a number  it ' s okay to want to hold on to your young body as long as you can  view more about a new  lifespan enhancement press here  with increasing longevity for an increasing segment of the  population , this is the frontier for the new millennium  - dr david howard  medical journal news  sorry not for me and the address is above  this was good reasoning , but the rash youth had no idea he was speeding  over the ocean , or that he was destined to arrive shortly at the barbarous  island of brava , off the coast of africa  yet such was the case ; just as the sun sank over the edge of the waves he  saw , to his great relief , a large island directly in his path  he dropped to a lower position in the air , and when he judged himself to be  over the center of the island he turned the indicator to zero and stopped  short \n",
            "1 :  Subject: mail receipt  thank you for your mail regarding our site . we will reply as soon as possible . in the meantime please continue to enjoy our site .  tight lines  bray sea anglers .\n",
            "1 :  Subject: nymex invitation - learn power trading  power trading  fundamentals :  sept 15 - 16 nymex in nyc  early bird discount now in effect !  nymex  power  delegates will learn :  electricity  markets overview  simulated  trading exercise  market  factors  basic  trading tools  new  york mercantile exchange  financial  instruments options  real  options  role  of risk management  identifying  different types of risk  position  analysis  portfolio  management  click  here to request complete course syllabus  contractual  terms , operational terms  terminology  trading  motivations of different physical electricity market participants .  buy  low - sell high  varied  traded assets  types  of electricity transactions  long - term ,  medium  and short - term contracts  transmission  services and traded power  this two - day course provides participants with  comprehensive training on power trading , deal structuring , credit risk ,  volatility , risk management , bilateral opportunities and more .  emi experts instruct using current data ,  real life examples , and practical experience !  contact  emi ( 888 ) 871 - 1207  click  here to request more information including syllabus  hurry class sizes  are limited !  click  here to see other energy training opportunities  registration  visit us online  www . energyinstitution . org  1369 madison ave , new york , ny 10128  to unsubscribe to future notices please email unsubscribe @ energyinstitution . org \n",
            "1 :  Subject: delivery failure : user antonio _ lambino ( antonio _ lambino @ ksg . harvard . edu ) not  listed in domino directory  your message  subject : [ spam ] just to her . . .  was not delivered to :  antonio _ lambino @ ksg . harvard . edu  because :  user antonio _ lambino ( antonio _ lambino @ ksg . harvard . edu ) not listed in domino directory\n",
            "1 :  Subject: . jif  . \n",
            "1 :  Subject: how are ya ?  hey , how ya been ? long time no see .\n",
            "1 :  Subject: special report ! tivo : now or never ?  in this issue  interactive tv power rankings !  tivo : now or never ?  breaking news  coming attractions !  be a star !  email us : : visit our site  phone : 310 - 314 - 0603  this email was sent to , at your request , by tvpredictions . com .  visit our subscription center to edit your interests or unsubscribe .  view our privacy policy .  powered by \n",
            "1 :  Subject: partnership for raising awareness  hello ,  my name is shane lamotte and i ' m in the new rock  band living illusion . how are you ? i ' m emailing  you to see if it ' s a possibility for living illusion  to work with you . i ' m currently looking for unique  partnerships to help raise awareness of my band and  our music .  if you want to check out my band  and listen to some tunes go to :  http : / / www . livingillusion . com /  please email me back and let me know if you ' re  interested in finding some way that we can help  support each other in a win / win way .  thanks ,  shane lamotte  www . livingillusion . com  ps also if your interested in exchanging links  between my website and yours just let me know and  we ' ll make it happen : )\n",
            "1 :  Subject: information request received  we are in receipt of your e - mail regarding additional information .  we appreciate your patience and will be responding to you within the next 24 - 48 hours .  please be advised that this is an automated e - mail response .  thank you ,  millenium precision , inc .\n",
            "0 :  Subject: contact info  i will be in one of these two places - -  my home : 011 91 80 3312635  my in - laws ' home : 011 91 80 5262719  you can also contact me by email at vshanbh @ yahoo . com , but it is better to  call since i do not have easy access to a computer , and there may be a delay  with reading email .  vasant\n",
            "0 :  Subject: check out  here is the rfc that was written in 1994 about the internet of 2020 i  mentioned .  i hope you find it as enlightening as i did , and enjoy it as well .  click  here : http : / / info . internet . isi . edu / in - notes / rfc / files / rfcl 607 . txt  mak\n",
            "0 :  Subject: department of energy is deploying a corporate portal at facilitie s  across the country  star information technology brings has the tools needed to help energy  companies gain knowledge . if it ' s information from oasis to market prices .  the events that change prices such as weather and more are always just one  click away with star information technologys ' powerful portal tools . our  portal products are the difference between seeing and doing . hosting dynamic  applications such as on - line reports , calendars , e - mail , and commerce  services create a one - stop shop for users to go about almost all of their  daily tasks : analyzing customer trends , checking schedules , viewing revenue -  or project - related performance metrics , and buying or selling products .  combining all the information relevant to users ' work with the ability to  act on that information enables organizations to get more done .  five government agencies deploy plumtree corporate portal at hundreds of  facilities -  the naval air systems command ( navair ) , department of energy ( doe ) ,  department of defense , national institutes of health and army public affairs  center are deploying a corporate portal at facilities across the country as  part of ongoing governmental initiatives to maximize efficiency , develop  more online content and provide private sector levels of customer service .  the plumtree corporate portal integrates regulatory , enforcement and  incident database reports , enterprise applications and internet services  into the agencies ' portals as portal gadgets ( tm ) , plug - in modules that embed  components of applications and interactive internet services in a  personalized portal page . the portal growth in the public sector is driven  by its success applying business technology to the specific challenges of  government , empowering federal agencies to simplify access to their data ,  reduce paperwork , benefit from the resources on the internet and share  information securely with their employees , contractors and constituencies .  for more information on how star information technology can help your  business turn knowledge into power contact us today at 508 - 359 - 6891 ext 115 .  christopher k . heisler  product manager  508 - 359 - 6892 ext 115  www . starit . com  cheisler @ starit . com  we make knowledge power\n",
            "0 :  Subject: linux - - hit or miss ?  network world fusion focus : phil hochmuth  on linux  today ' s focus : will linux be a hit or miss on the corporate desktop ?  03 / 15 / 00  dear wincenty kaminski ,  today ' s focus : will linux be a hit or miss  on the corporate desktop ?  by phil hochmuth  so far this year , the buzz about linux in enterprise networks has  focused on servers and embedded systems , with the growth of linux  severs being most heralded . according to idc , a research firm based in  framingham , mass . , linux was the fastest - growing server operating  system last year , with a 93 % growth rate over the year before . linux  was the second most - shipped operating system in 1999 after windows nt ,  capturing 24 % of new licenses shipped .  as for the embedded market , linux has emerged as an ideal platform for  network appliances , because the system can be modified to handle  specialized , dedicated tasks very well . companies such as cobalt  networks , picazo and progressive systems have announced linux - based  appliances , ranging from web servers to pbxs to firewalls .  but what of the open source hacker \u0001 , s dream of \u0001 & linux on every desktop ? \u0001 8  sure , linux on the desktop has become more accessible than ever , with  colorful , shrink - wrapped boxes of caldera , red hat and corel linux now  available at places like compusa . however , analysts have said that  linux \u0001 , s growth in the enterprise will be limited to the macro and micro  areas of network servers and embedded operating systems .  according to idc , linux currently runs on only 4 % of u . s . desktops . the  hold microsoft windows has on the desktop market will remain strong ,  analysts say , despite such factors as microsoft \u0001 , s antitrust problems  and the surging popularity of linux .  even some linux executives are skeptical of their product \u0001 , s desktop  future . recently , suse ceo roland dyroff downplayed linux \u0001 , s future on  desktops . dyroff said , \u0001 & given the lack of applications available , we  really can ' t claim it as being competitive on the desktop yet . \u0001 8  a recent survey by survey . com gives more hope for linux desktops .  according to the survey of 1 , 640 enterprise network managers , open  source operating systems are used on 10 % of desktops , with the number  jumping to a surprising 23 % of enterprise desktops by 2002 .  despite the mix of numbers being thrown around , two important factors  that will determine the success of linux as an enterprise client  desktop are : a standardized , easy - to - use graphical user interface ( gui )  and available applications .  one company that is working to make linux more user friendly is palo  alto - based eazel , which is designing a next - generation file management  system and user interface to run on top of the linux kernel . according  to eazel \u0001 , s web site , the company \u0001 , s goal is to bring linux to the masses  and \u0001 & do it in a way that appeals to today ' s linux users and to mere  mortals . \u0001 8  the company was founded by a group of former apple executives , and is  allied with the gnome project , which has been doing extensive linux  desktop environment development for several years . eazel is due to have  a product out by the middle of this year . with an intuitive , icon - based  file management environment , eazel is hoping its user interface will be  an improvement over the two current linux guis , gnome and kde , and will  help standardized the look and feel of linux for \u0001 & regular \u0001 8 users . for  enterprise mangers who have already embraced linux on the server side ,  this development will be worth keeping an eye on .  on the applications side , several office productivity suites have been  available for some time , such as sun \u0001 , s staroffice suite and koffice for  the kde desktop . corel has also ported its office products , such as  wordperfect , over to linux to complement its own distribution of the  operating system . while there have been recent rumors ( started by linux  care vice president arthur tyde ) that microsoft is working on a port of  ms office to linux , microsoft officials deny this .  while linux may never supplant windows as the industry - standard desktop ,  there should be plenty of opportunity for linux pcs in enterprise nets  in the future .  to contact phil hochmuth :  - - - - - - - - - - - - - - - - - - - - - - - - -  phil hochmuth is a writer and researcher for network world , and a former  systems integrator . you can reach him at mailto : phochmut @ nww . com .  for related links - - click here for network world ' s home page :  http : / / www . nwfusion . com  staroffice software from sun  http : / / www . sun . com / staroffice  corel linux os  http : / / www . corel . com / freedom / freedom . htm  eazel  http : / / www . eazel . com  gnome - - the gnu network object model environment  http : / / www . gnome . org  koffice - - the integrated office suite for kde , the k desktop  environment  http : / / koffice . kde . org /  cobalt networks , inc .  http : / / www . cobaltnetworks . com  progressive systems  http : / / www . progressive - systems . com  picazo  http : / / www . picazo . com  other linux - related articles from network world :  active directory upgrade requires strong game plan , network world ,  03 / 13 / 00  subscription services  to subscribe or unsubscribe to any network world e - mail newsletters ,  go to :  to change your email address , go to :  subscription questions ? contact customer service by replying to this  message .  other questions / comments  have editorial comments ? write jeff caruso , newsletter editor , at :  mailto : jcaruso @ nww . com  for advertising information , write jamie kalbach , account executive ,  at : mailto : jkalbach @ nww . com  network world fusion is part of idg . net , the idg online network .  it all starts here :  http : / / www . idg . com  copyright network world , inc . , 2000\n",
            "0 :  Subject: 2001 budget for research  sir ,  i just got word that your bottom line needs to be 2 , 200 k . this is net of  corp charges and intercompany billings . in order to get to this number , we  have to reduce your budget by 83 k . do you have any suggestions in which  category ( ies ) we need to reduce ?  budget 10 , 521 , 000  i / c billings 8 , 238 , 000  subtotal 2 , 283 , 000  per delainey 2 , 200 , 000  need to dec by 83 , 000  here are my suggestions based on oct expenses :  category oct expense budget decrease yearly amount  periodical / subscription 5 , 200 10 , 000 3 , 000 36 , 000  tuition and reimbursement 11 , 000 21 , 000 4 , 000 48 , 000  this will bring you to the bottom line suggested by delainey . please let me  know your decision by november 21 . if you have any questions , call me at  5 - 7094 . thanx .\n"
          ]
        }
      ]
    },
    {
      "cell_type": "code",
      "source": [
        "error = []\n",
        "\n",
        "# Calculating error for K values between 1 and 21\n",
        "for i in range(1, 21):\n",
        "    knn = KNeighborsClassifier(n_neighbors=i)#, metric='manhattan' )\n",
        "    knn.fit(X_train, y_train)\n",
        "    pred_i = knn.predict(X_test)\n",
        "    error.append(np.mean(pred_i != y_test))\n",
        "\n",
        "plt.figure(figsize=(12, 6))\n",
        "plt.plot(range(1, 21), error, color='red', linestyle='dashed', marker='o', markerfacecolor='blue', markersize=10)\n",
        "plt.title('Error Rate K Value')\n",
        "plt.xlabel('K Value')\n",
        "plt.ylabel('Mean Error')\n",
        "plt.show()"
      ],
      "metadata": {
        "colab": {
          "base_uri": "https://localhost:8080/",
          "height": 404
        },
        "id": "bxwYwuBAzjhL",
        "outputId": "d1a384fc-2cd7-4610-a3cc-39f8bd711c0b"
      },
      "execution_count": null,
      "outputs": [
        {
          "output_type": "display_data",
          "data": {
            "image/png": "[encoded data removed]",
            "text/plain": [
              "<Figure size 864x432 with 1 Axes>"
            ]
          },
          "metadata": {
            "needs_background": "light"
          }
        }
      ]
    },
    {
      "cell_type": "code",
      "source": [
        "wordCoefs = {}\n",
        "nWords = len(clf.coef_[0])\n",
        "\n",
        "for i in range(nWords):\n",
        "  if clf.coef_[0,i] > 0:\n",
        "    wordCoefs[ sortVocab[i] ] = clf.coef_[0,i]\n",
        "\n",
        "for item in wordCoefs:\n",
        "  print(\"{}: {}\".format(item,wordCoefs[item]))"
      ],
      "metadata": {
        "id": "-e0K_F_Vxsc8"
      },
      "execution_count": null,
      "outputs": []
    },
    {
      "cell_type": "code",
      "source": [
        "sortedWords = sorted(wordCoefs.items(), key=lambda x: x[1], reverse=False)\n",
        "\n",
        "for i in range(20):\n",
        "  print(sortedWords[i])"
      ],
      "metadata": {
        "colab": {
          "base_uri": "https://localhost:8080/"
        },
        "id": "i9mNogZGx8Wz",
        "outputId": "2e316ae6-e58f-4e94-8dcf-029b5122b347"
      },
      "execution_count": null,
      "outputs": [
        {
          "output_type": "stream",
          "name": "stdout",
          "text": [
            "(('awkward', 5841), 5.789667043417111e-11)\n",
            "(('bblop', 6195), 1.0339425674088827e-10)\n",
            "(('thinker', 33299), 2.306190675333811e-10)\n",
            "(('carve', 7914), 3.0197537263651684e-10)\n",
            "(('versed', 35165), 3.4339969868788784e-10)\n",
            "(('3945', 1778), 4.261867947043748e-10)\n",
            "(('574', 2375), 4.261867947043748e-10)\n",
            "(('geophysicists', 15675), 4.261867947043748e-10)\n",
            "(('holden', 17095), 7.253478093602236e-10)\n",
            "(('amram', 4755), 8.211513878374132e-10)\n",
            "(('breineck', 7145), 8.211513878374132e-10)\n",
            "(('cartels', 7902), 8.211513878374132e-10)\n",
            "(('hammers', 16461), 8.211513878374132e-10)\n",
            "(('mechanically', 21888), 8.211513878374132e-10)\n",
            "(('monkeys', 22651), 8.211513878374132e-10)\n",
            "(('parsimonious', 25039), 8.211513878374132e-10)\n",
            "(('texts', 33170), 8.211513878374132e-10)\n",
            "(('assistantship', 5476), 8.451211182232062e-10)\n",
            "(('assurances', 5502), 8.451211182232062e-10)\n",
            "(('grandmother', 16071), 8.451211182232062e-10)\n"
          ]
        }
      ]
    }
  ]
}