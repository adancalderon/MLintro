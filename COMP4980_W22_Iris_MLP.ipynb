{
  "nbformat": 4,
  "nbformat_minor": 0,
  "metadata": {
    "colab": {
      "name": "COMP4980 W22 Iris MLP.ipynb",
      "provenance": [],
      "include_colab_link": true
    },
    "kernelspec": {
      "name": "python3",
      "display_name": "Python 3"
    },
    "language_info": {
      "name": "python"
    }
  },
  "cells": [
    {
      "cell_type": "markdown",
      "metadata": {
        "id": "view-in-github",
        "colab_type": "text"
      },
      "source": [
        "<a href=\"https://colab.research.google.com/github/adancalderon/MLintro/blob/main/COMP4980_W22_Iris_MLP.ipynb\" target=\"_parent\"><img src=\"https://colab.research.google.com/assets/colab-badge.svg\" alt=\"Open In Colab\"/></a>"
      ]
    },
    {
      "cell_type": "code",
      "execution_count": null,
      "metadata": {
        "id": "ZF0iB2N4z6SV"
      },
      "outputs": [],
      "source": [
        "import numpy as np\n",
        "import sklearn.neural_network as nn\n",
        "import matplotlib.pyplot as plt\n",
        "import sklearn.model_selection as ms\n",
        "from sklearn.metrics import accuracy_score"
      ]
    },
    {
      "cell_type": "code",
      "source": [
        "from sklearn.datasets import load_iris\n",
        "ds = load_iris()\n",
        "X = ds.data\n",
        "y = ds.target"
      ],
      "metadata": {
        "id": "bp5Rxn0l0B9U"
      },
      "execution_count": null,
      "outputs": []
    },
    {
      "cell_type": "code",
      "source": [
        "X_train, X_test, y_train, y_test = ms.train_test_split(X, y, test_size = 0.2)"
      ],
      "metadata": {
        "id": "4uY4ZRyU0POb"
      },
      "execution_count": null,
      "outputs": []
    },
    {
      "cell_type": "code",
      "source": [
        "clf = nn.MLPClassifier(hidden_layer_sizes=(10,5), max_iter=1000, activation='tanh', alpha=0.0)\n",
        "\n",
        "clf.fit(X_train, y_train)\n",
        "y_pred = clf.predict(X_test)\n",
        "\n",
        "print(accuracy_score(y_test, y_pred))"
      ],
      "metadata": {
        "colab": {
          "base_uri": "https://localhost:8080/"
        },
        "id": "usP0YX0s0Jxj",
        "outputId": "061f0bfb-1aba-4e7d-bd18-73e0767b169f"
      },
      "execution_count": null,
      "outputs": [
        {
          "output_type": "stream",
          "name": "stdout",
          "text": [
            "0.9666666666666667\n"
          ]
        },
        {
          "output_type": "stream",
          "name": "stderr",
          "text": [
            "/usr/local/lib/python3.7/dist-packages/sklearn/neural_network/_multilayer_perceptron.py:696: ConvergenceWarning: Stochastic Optimizer: Maximum iterations (1000) reached and the optimization hasn't converged yet.\n",
            "  ConvergenceWarning,\n"
          ]
        }
      ]
    },
    {
      "cell_type": "code",
      "source": [
        "clf.coefs_"
      ],
      "metadata": {
        "colab": {
          "base_uri": "https://localhost:8080/"
        },
        "id": "DM6D8VtR0hCE",
        "outputId": "b6ee59d2-ce9e-412b-a451-656ad049e9a9"
      },
      "execution_count": null,
      "outputs": [
        {
          "output_type": "execute_result",
          "data": {
            "text/plain": [
              "[array([[ 0.37091656, -0.38956355, -0.04113309,  0.50573921, -0.55216614,\n",
              "         -0.03657018,  0.49467063,  0.1470287 ,  0.06315366,  0.39626795],\n",
              "        [-0.4123736 ,  0.05177723, -0.47615765,  0.23025958,  0.02479828,\n",
              "         -0.28835777, -0.41615596, -0.22917077, -0.07148982,  0.40231651],\n",
              "        [-0.35539648,  0.54183027,  0.70682336,  0.38257176, -0.31270794,\n",
              "         -0.32177521, -0.59587352,  0.08199391,  0.06918451, -0.10463514],\n",
              "        [-0.39352503, -0.61382191, -0.05439243, -0.16878133,  0.38314488,\n",
              "          0.36876026, -0.02867596, -0.1413249 ,  0.45214965, -0.22533927]]),\n",
              " array([[ 0.0748075 , -0.39280457,  0.5589294 , -0.09648919,  0.3378824 ],\n",
              "        [-0.25127674, -0.65029112,  0.19819044, -0.15427333, -0.31445828],\n",
              "        [ 0.49097091, -0.73220007, -0.61823062,  0.07553459,  0.31000464],\n",
              "        [-0.22515914, -0.33871103,  0.31037059,  0.09218794,  0.51178566],\n",
              "        [-0.54057549,  0.52242502, -0.16272629, -0.2154244 ,  0.23941354],\n",
              "        [ 0.37772596, -0.02591571,  0.00280489,  0.022456  ,  0.35572048],\n",
              "        [ 0.20652761, -0.00088683,  0.15741322,  0.81476954,  0.06269218],\n",
              "        [-0.55141092,  0.19064192,  0.41931773, -0.46758828, -0.63108922],\n",
              "        [ 0.35090352, -0.22156999, -0.53176042, -0.33593818, -0.11611684],\n",
              "        [-0.25750751,  0.63232364,  0.5847267 ,  0.5567926 ,  0.07476552]]),\n",
              " array([[-0.1674245 ,  0.42192613, -0.05027912],\n",
              "        [ 0.5127224 , -0.84258923,  0.12688602],\n",
              "        [ 0.70447374, -0.18122065, -0.46557627],\n",
              "        [ 0.86773591,  0.41253833, -0.65129019],\n",
              "        [ 0.31167658, -0.59452385,  0.11028176]])]"
            ]
          },
          "metadata": {},
          "execution_count": 94
        }
      ]
    },
    {
      "cell_type": "code",
      "source": [
        "clf.hidden_layer_sizes"
      ],
      "metadata": {
        "colab": {
          "base_uri": "https://localhost:8080/"
        },
        "id": "hWpZ7j3J0tzT",
        "outputId": "958676db-7434-4762-f3d9-057cf40a1b81"
      },
      "execution_count": null,
      "outputs": [
        {
          "output_type": "execute_result",
          "data": {
            "text/plain": [
              "(100,)"
            ]
          },
          "metadata": {},
          "execution_count": 15
        }
      ]
    },
    {
      "cell_type": "code",
      "source": [
        "clf.predict([[3,4,1,1]])"
      ],
      "metadata": {
        "colab": {
          "base_uri": "https://localhost:8080/"
        },
        "id": "9XRpixiu07bD",
        "outputId": "68365e4e-3796-4948-dee7-93d7c2728a22"
      },
      "execution_count": null,
      "outputs": [
        {
          "output_type": "execute_result",
          "data": {
            "text/plain": [
              "array([0])"
            ]
          },
          "metadata": {},
          "execution_count": 22
        }
      ]
    }
  ]
}