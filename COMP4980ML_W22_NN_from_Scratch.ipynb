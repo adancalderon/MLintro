{
  "nbformat": 4,
  "nbformat_minor": 0,
  "metadata": {
    "colab": {
      "name": "COMP4980ML W22 NN from Scratch.ipynb",
      "provenance": [],
      "include_colab_link": true
    },
    "kernelspec": {
      "name": "python3",
      "display_name": "Python 3"
    },
    "language_info": {
      "name": "python"
    }
  },
  "cells": [
    {
      "cell_type": "markdown",
      "metadata": {
        "id": "view-in-github",
        "colab_type": "text"
      },
      "source": [
        "<a href=\"https://colab.research.google.com/github/adancalderon/MLintro/blob/main/COMP4980ML_W22_NN_from_Scratch.ipynb\" target=\"_parent\"><img src=\"https://colab.research.google.com/assets/colab-badge.svg\" alt=\"Open In Colab\"/></a>"
      ]
    },
    {
      "cell_type": "code",
      "execution_count": null,
      "metadata": {
        "id": "w2CAwnY2xOTJ"
      },
      "outputs": [],
      "source": [
        "import numpy as np\n",
        "import sklearn.neural_network as nn\n",
        "import sklearn.model_selection as ms\n",
        "import matplotlib.pyplot as plt"
      ]
    },
    {
      "cell_type": "markdown",
      "source": [
        "Adapted from:\n",
        "https://stackabuse.com/creating-a-neural-network-from-scratch-in-python\n",
        "\n",
        "Also good:\n",
        "https://developer.ibm.com/technologies/artificial-intelligence/articles/neural-networks-from-scratch/\n",
        "\n",
        "Most detailed:\n",
        "https://machinelearningmastery.com/implement-backpropagation-algorithm-scratch-python/"
      ],
      "metadata": {
        "id": "TxpJ1_mQxd3p"
      }
    },
    {
      "cell_type": "code",
      "source": [
        "def sigmoid(x, derivative = False):\n",
        "  if(derivative):\n",
        "    return sigmoid(x) * (1-sigmoid(x))\n",
        "    \n",
        "  return 1/(1+np.exp(-x))"
      ],
      "metadata": {
        "id": "cNoDvjeuxau6"
      },
      "execution_count": null,
      "outputs": []
    },
    {
      "cell_type": "code",
      "source": [
        "def ReLu(x, derivative = False):\n",
        "  x[ x < 0 ] = 0\n",
        "\n",
        "  if(derivative):\n",
        "    x[ x > 0 ] = 1\n",
        "  \n",
        "  return x"
      ],
      "metadata": {
        "id": "oDa8usiAyQkA"
      },
      "execution_count": null,
      "outputs": []
    },
    {
      "cell_type": "code",
      "source": [
        "leak = 0.2\n",
        "def LeakyReLu(x, derivative = False):\n",
        "  if(derivative):\n",
        "    x[ x >= 0 ] = 1\n",
        "    x[ x < 0 ] = leak\n",
        "    return x\n",
        "  \n",
        "  x[ x < 0 ] *= leak\n",
        "  return x"
      ],
      "metadata": {
        "id": "l6YVWYN2yfDQ"
      },
      "execution_count": null,
      "outputs": []
    },
    {
      "cell_type": "code",
      "source": [
        "from sklearn.datasets import make_moons, make_blobs\n",
        "#X, y = make_moons(noise=.1)\n",
        "X, y = make_blobs(centers=2)\n",
        "y = y.reshape(-1,1)\n",
        "plt.scatter(X[:,0],X[:,1],c=y)\n",
        "plt.colorbar()\n",
        "plt.show()"
      ],
      "metadata": {
        "colab": {
          "base_uri": "https://localhost:8080/",
          "height": 269
        },
        "id": "PsP6yjgaywfv",
        "outputId": "30892c27-b48d-4a93-d819-01ba2b0b7090"
      },
      "execution_count": null,
      "outputs": [
        {
          "output_type": "display_data",
          "data": {
            "text/plain": [
              "<Figure size 432x288 with 2 Axes>"
            ],
            "image/png": "[encoded data removed]"
          },
          "metadata": {
            "needs_background": "light"
          }
        }
      ]
    },
    {
      "cell_type": "code",
      "source": [
        "from sklearn.model_selection import train_test_split\n",
        "X_train, X_test, y_train, y_test = train_test_split(X, y, test_size = 0.1)"
      ],
      "metadata": {
        "id": "lG5cN-CmzQoj"
      },
      "execution_count": null,
      "outputs": []
    },
    {
      "cell_type": "code",
      "source": [
        "layer_sizes = [2, 40, 20, 1]\n",
        "depth = len(layer_sizes) - 1\n",
        "weights = []\n",
        "bias = []\n",
        "for n in range(depth):\n",
        "  weights.append( np.random.rand( layer_sizes[n], layer_sizes[n+1] )    )\n",
        "  bias.append( np.random.rand( layer_sizes[n+1] ) )\n",
        "\n",
        "lr = 0.00005\n",
        "activation = ReLu\n"
      ],
      "metadata": {
        "id": "ExCjCHjszYBR"
      },
      "execution_count": null,
      "outputs": []
    },
    {
      "cell_type": "code",
      "source": [
        "bias"
      ],
      "metadata": {
        "colab": {
          "base_uri": "https://localhost:8080/"
        },
        "id": "olSO-vEu1FyB",
        "outputId": "358459ef-8ae1-4ded-f979-c53d77523f53"
      },
      "execution_count": null,
      "outputs": [
        {
          "output_type": "execute_result",
          "data": {
            "text/plain": [
              "[array([0.33399099, 0.82823584, 0.02247177, 0.28413022, 0.72019209,\n",
              "        0.62191801, 0.95063686, 0.29328887, 0.82436011, 0.20334427,\n",
              "        0.08561047, 0.16205894, 0.73707386, 0.74729472, 0.73914923,\n",
              "        0.47715838, 0.92877564, 0.84637103, 0.85150325, 0.74534445]),\n",
              " array([0.15441777])]"
            ]
          },
          "metadata": {},
          "execution_count": 9
        }
      ]
    },
    {
      "cell_type": "code",
      "source": [
        "def feedforward(input):\n",
        "  outputs = [input]\n",
        "\n",
        "  for n in range(depth):\n",
        "    if(n== depth-1):\n",
        "      newVals = sigmoid(  np.dot(outputs[n], weights[n]) + bias[n] )\n",
        "    else:\n",
        "      newVals = activation(  np.dot(outputs[n], weights[n]) + bias[n] )\n",
        "    outputs.append(newVals)\n",
        "  \n",
        "  return outputs"
      ],
      "metadata": {
        "id": "zSlbcurv1WOv"
      },
      "execution_count": null,
      "outputs": []
    },
    {
      "cell_type": "code",
      "source": [
        "def backpropagate( values, labels, prnt = False):\n",
        "  error = values[depth] - labels\n",
        "  gradient = activation( values[depth], derivative=True )\n",
        "  error *= gradient\n",
        "\n",
        "  if(prnt):\n",
        "    print(error.sum())\n",
        "  \n",
        "  errors = [error]\n",
        "\n",
        "  for n in range(depth-1, 0, -1):\n",
        "    error = np.dot(error, weights[n].T)\n",
        "    gradient = activation( values[n], derivative = True )\n",
        "    error *= gradient\n",
        "    errors.insert(0 ,error)\n",
        "    \n",
        "  return errors"
      ],
      "metadata": {
        "id": "Am1QvfY719Fp"
      },
      "execution_count": null,
      "outputs": []
    },
    {
      "cell_type": "code",
      "source": [
        "def updateWB(errors, values):\n",
        "  for n in range(depth):\n",
        "    update = np.dot(values[n].T, errors[n])\n",
        "    update *= lr\n",
        "\n",
        "    weights[n] = weights[n] - update\n",
        "    bias[n] = bias[n] - lr * sum(sum(errors[n]))"
      ],
      "metadata": {
        "id": "Zos5piqT3cPA"
      },
      "execution_count": null,
      "outputs": []
    },
    {
      "cell_type": "code",
      "source": [
        "for epoch in range(10000):\n",
        "  values = feedforward(X_train)\n",
        "\n",
        "  errors = backpropagate(values, y_train, prnt = epoch % 1000 == 0)\n",
        "\n",
        "  updateWB(errors, values)"
      ],
      "metadata": {
        "colab": {
          "base_uri": "https://localhost:8080/"
        },
        "id": "Psx4pi7n4iqo",
        "outputId": "7e2fd5a3-3cf0-4c4e-96b7-42796eeb17f6"
      },
      "execution_count": null,
      "outputs": [
        {
          "output_type": "stream",
          "name": "stdout",
          "text": [
            "46.850580905712725\n",
            "8.986279824553087\n",
            "2.3078055710876475\n",
            "1.1457002633620945\n",
            "0.05914189865025435\n",
            "0.024601780246936107\n",
            "0.015243281825347371\n",
            "0.01095244135137309\n",
            "0.008508100551020468\n",
            "0.006935965762673998\n"
          ]
        }
      ]
    },
    {
      "cell_type": "code",
      "source": [
        "y_pred = feedforward( X_test )\n",
        "y_pred = np.round_( y_pred[depth], 0 )"
      ],
      "metadata": {
        "id": "n3N84c1Y5QfX"
      },
      "execution_count": null,
      "outputs": []
    },
    {
      "cell_type": "code",
      "source": [
        "y_pred"
      ],
      "metadata": {
        "colab": {
          "base_uri": "https://localhost:8080/"
        },
        "id": "nVzcODbImzSA",
        "outputId": "6d1b0f08-d722-44a5-9fe1-72cd0c8f3886"
      },
      "execution_count": null,
      "outputs": [
        {
          "output_type": "execute_result",
          "data": {
            "text/plain": [
              "array([[1.],\n",
              "       [1.],\n",
              "       [1.],\n",
              "       [0.],\n",
              "       [1.],\n",
              "       [1.],\n",
              "       [0.],\n",
              "       [1.],\n",
              "       [1.],\n",
              "       [0.]])"
            ]
          },
          "metadata": {},
          "execution_count": 157
        }
      ]
    },
    {
      "cell_type": "code",
      "source": [
        "from sklearn.metrics import accuracy_score\n",
        "accuracy_score(y_test, y_pred)"
      ],
      "metadata": {
        "colab": {
          "base_uri": "https://localhost:8080/"
        },
        "id": "qM24zdtP5kRH",
        "outputId": "0f940830-2a42-4c3f-d93f-5fd7a1a2a46c"
      },
      "execution_count": null,
      "outputs": [
        {
          "output_type": "execute_result",
          "data": {
            "text/plain": [
              "1.0"
            ]
          },
          "metadata": {},
          "execution_count": 158
        }
      ]
    }
  ]
}