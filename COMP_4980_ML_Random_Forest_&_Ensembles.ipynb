{
  "nbformat": 4,
  "nbformat_minor": 0,
  "metadata": {
    "colab": {
      "name": "COMP 4980 ML Random Forest & Ensembles.ipynb",
      "provenance": [],
      "include_colab_link": true
    },
    "kernelspec": {
      "name": "python3",
      "display_name": "Python 3"
    },
    "language_info": {
      "name": "python"
    }
  },
  "cells": [
    {
      "cell_type": "markdown",
      "metadata": {
        "id": "view-in-github",
        "colab_type": "text"
      },
      "source": [
        "<a href=\"https://colab.research.google.com/github/adancalderon/MLintro/blob/main/COMP_4980_ML_Random_Forest_%26_Ensembles.ipynb\" target=\"_parent\"><img src=\"https://colab.research.google.com/assets/colab-badge.svg\" alt=\"Open In Colab\"/></a>"
      ]
    },
    {
      "cell_type": "code",
      "execution_count": null,
      "metadata": {
        "id": "mXJphDV4hSrc"
      },
      "outputs": [],
      "source": [
        "import numpy as np\n",
        "import matplotlib.pyplot as plt"
      ]
    },
    {
      "cell_type": "code",
      "source": [
        "from sklearn.datasets import fetch_california_housing\n",
        "ds = fetch_california_housing()\n",
        "X = ds.data\n",
        "y = ds.target"
      ],
      "metadata": {
        "id": "dI8Xf0RJhYly"
      },
      "execution_count": null,
      "outputs": []
    },
    {
      "cell_type": "code",
      "source": [
        "X.shape"
      ],
      "metadata": {
        "colab": {
          "base_uri": "https://localhost:8080/"
        },
        "id": "gQdYlFOxsqd9",
        "outputId": "5bc3d0d7-ffb9-4f9d-c606-e909134d39a1"
      },
      "execution_count": null,
      "outputs": [
        {
          "output_type": "execute_result",
          "data": {
            "text/plain": [
              "(20640, 8)"
            ]
          },
          "metadata": {},
          "execution_count": 3
        }
      ]
    },
    {
      "cell_type": "code",
      "source": [
        "n = X.shape[0]\n",
        "boot = np.random.randint(n, size=n)"
      ],
      "metadata": {
        "id": "gMoB2LKYhdCq"
      },
      "execution_count": null,
      "outputs": []
    },
    {
      "cell_type": "code",
      "source": [
        "from sklearn.model_selection import train_test_split\n",
        "X_train, X_test, y_train, y_test = train_test_split(X, y, test_size=0.2)"
      ],
      "metadata": {
        "id": "rGVZSG2Qhulr"
      },
      "execution_count": null,
      "outputs": []
    },
    {
      "cell_type": "code",
      "source": [
        "trees = list(range(100))\n",
        "n = X_train.shape[0]\n",
        "p = X_train.shape[1]"
      ],
      "metadata": {
        "id": "UadOI7UpiU-K"
      },
      "execution_count": null,
      "outputs": []
    },
    {
      "cell_type": "code",
      "source": [
        "from sklearn.tree import DecisionTreeRegressor\n",
        "\n",
        "def fit():\n",
        "  for i in range(len(trees)):\n",
        "    trees[i] = DecisionTreeRegressor(max_features=0.33)\n",
        "    boot = np.random.randint(n, size=n)\n",
        "    Xtb = X_train[boot]\n",
        "    ytb = y_train[boot]\n",
        "\n",
        "    trees[i].fit(Xtb, ytb)\n"
      ],
      "metadata": {
        "id": "ZY2t9alHikqR"
      },
      "execution_count": null,
      "outputs": []
    },
    {
      "cell_type": "code",
      "source": [
        "fit()"
      ],
      "metadata": {
        "id": "skXoqDStjJkJ"
      },
      "execution_count": null,
      "outputs": []
    },
    {
      "cell_type": "code",
      "source": [
        "def predict(Xs):\n",
        "  votes = np.empty( (len(trees), len(Xs)) )\n",
        "\n",
        "  for i in range(len(trees)):\n",
        "    votes[i] = trees[i].predict(Xs)\n",
        "\n",
        "  result = np.zeros(len(Xs))\n",
        "  for i in range(len(Xs)):\n",
        "    result[i] = np.mean(votes[:,i])\n",
        "  \n",
        "  return result"
      ],
      "metadata": {
        "id": "BGjg3I_nj4xZ"
      },
      "execution_count": null,
      "outputs": []
    },
    {
      "cell_type": "code",
      "source": [
        "y_pred = predict(X_test)"
      ],
      "metadata": {
        "id": "2BEenr--lNw5"
      },
      "execution_count": null,
      "outputs": []
    },
    {
      "cell_type": "code",
      "source": [
        "from sklearn.metrics import r2_score\n",
        "\n",
        "print(r2_score(y_test,y_pred))"
      ],
      "metadata": {
        "colab": {
          "base_uri": "https://localhost:8080/"
        },
        "id": "YAJXqNjMlrI4",
        "outputId": "52ae90b0-fa21-49fe-aae9-eb871d389300"
      },
      "execution_count": null,
      "outputs": [
        {
          "output_type": "stream",
          "name": "stdout",
          "text": [
            "0.8154995412498973\n"
          ]
        }
      ]
    },
    {
      "cell_type": "code",
      "source": [
        "clf = DecisionTreeRegressor()\n",
        "clf.fit(X_train, y_train)\n",
        "y_pred = clf.predict(X_test)"
      ],
      "metadata": {
        "id": "TNPr8Urwm_eP"
      },
      "execution_count": null,
      "outputs": []
    },
    {
      "cell_type": "code",
      "source": [
        "from sklearn.ensemble import BaggingRegressor\n",
        "clf = BaggingRegressor(n_estimators=100)\n",
        "clf.fit(X_train, y_train)\n",
        "y_pred = clf.predict(X_test)"
      ],
      "metadata": {
        "id": "BGIbQRUAnbFn"
      },
      "execution_count": null,
      "outputs": []
    },
    {
      "cell_type": "code",
      "source": [
        "from sklearn.ensemble import RandomForestRegressor\n",
        "clf = RandomForestRegressor(max_features=0.33)\n",
        "clf.fit(X_train, y_train)\n",
        "y_pred = clf.predict(X_test)\n",
        "print(r2_score(y_test, y_pred))"
      ],
      "metadata": {
        "colab": {
          "base_uri": "https://localhost:8080/"
        },
        "id": "kbECeWL5u_hM",
        "outputId": "bd288c41-d135-44ff-b8db-713854586c27"
      },
      "execution_count": null,
      "outputs": [
        {
          "output_type": "stream",
          "name": "stdout",
          "text": [
            "0.8135474547331382\n"
          ]
        }
      ]
    },
    {
      "cell_type": "code",
      "source": [
        "from sklearn.ensemble import AdaBoostRegressor\n",
        "clf = AdaBoostRegressor(n_estimators=100)\n",
        "clf.fit(X_train, y_train)\n",
        "y_pred = clf.predict(X_test)\n",
        "print(r2_score(y_test, y_pred))"
      ],
      "metadata": {
        "colab": {
          "base_uri": "https://localhost:8080/"
        },
        "id": "WXE-XGMzzIqC",
        "outputId": "73a53a32-2256-41c2-c146-7f543b5333ef"
      },
      "execution_count": null,
      "outputs": [
        {
          "output_type": "stream",
          "name": "stdout",
          "text": [
            "0.4174033808371196\n"
          ]
        }
      ]
    },
    {
      "cell_type": "code",
      "source": [
        "from sklearn.ensemble import GradientBoostingRegressor\n",
        "clf = GradientBoostingRegressor(n_estimators=100)\n",
        "clf.fit(X_train, y_train)\n",
        "y_pred = clf.predict(X_test)\n",
        "print(r2_score(y_test, y_pred))"
      ],
      "metadata": {
        "colab": {
          "base_uri": "https://localhost:8080/"
        },
        "id": "TQev8fiKzWpS",
        "outputId": "e7859243-21c9-44c7-ddbb-e2994c16a7dd"
      },
      "execution_count": null,
      "outputs": [
        {
          "output_type": "stream",
          "name": "stdout",
          "text": [
            "0.7810784276693036\n"
          ]
        }
      ]
    },
    {
      "cell_type": "code",
      "source": [
        "ests = [BaggingRegressor(), RandomForestRegressor(), AdaBoostRegressor(), GradientBoostingRegressor()]\n",
        "\n",
        "for e in ests:\n",
        "  e.fit(X_train, y_train)\n",
        "  y_pred = e.predict(X_test)\n",
        "  print(type(e), r2_score(y_test, y_pred))\n",
        "\n"
      ],
      "metadata": {
        "colab": {
          "base_uri": "https://localhost:8080/"
        },
        "id": "JXCBXVndzxDK",
        "outputId": "6aa13031-4ce1-48e9-d853-7aacb7be8f87"
      },
      "execution_count": null,
      "outputs": [
        {
          "output_type": "stream",
          "name": "stdout",
          "text": [
            "<class 'sklearn.ensemble._bagging.BaggingRegressor'> 0.782198734656421\n",
            "<class 'sklearn.ensemble._forest.RandomForestRegressor'> 0.8084162374229509\n",
            "<class 'sklearn.ensemble._weight_boosting.AdaBoostRegressor'> 0.33239021181804107\n",
            "<class 'sklearn.ensemble._gb.GradientBoostingRegressor'> 0.7810210576421839\n"
          ]
        }
      ]
    }
  ]
}